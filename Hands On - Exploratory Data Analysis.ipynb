{
 "cells": [
  {
   "cell_type": "code",
   "execution_count": 1,
   "metadata": {
    "executionInfo": {
     "elapsed": 1095,
     "status": "ok",
     "timestamp": 1663505881987,
     "user": {
      "displayName": "Mirza Fahmi",
      "userId": "15453880888796853366"
     },
     "user_tz": -420
    },
    "id": "udvPB01DFIo7"
   },
   "outputs": [],
   "source": [
    "import numpy as np\n",
    "import pandas as pd\n",
    "import matplotlib.pyplot as plt\n",
    "import seaborn as sns"
   ]
  },
  {
   "cell_type": "markdown",
   "metadata": {
    "id": "vCYcfzjHZhOM"
   },
   "source": [
    "# Mengubah parameter default matplotlib\n",
    "Parameter default matplotlib dapat diubah dengan rcParams sebagai berikut"
   ]
  },
  {
   "cell_type": "code",
   "execution_count": 2,
   "metadata": {
    "executionInfo": {
     "elapsed": 460,
     "status": "ok",
     "timestamp": 1663505890365,
     "user": {
      "displayName": "Mirza Fahmi",
      "userId": "15453880888796853366"
     },
     "user_tz": -420
    },
    "id": "zJ6dSb6gFj5-"
   },
   "outputs": [],
   "source": [
    "from matplotlib import rcParams\n",
    "\n",
    "rcParams['figure.figsize'] = 12, 4\n",
    "rcParams['lines.linewidth'] = 3\n",
    "rcParams['xtick.labelsize'] = 'x-large'\n",
    "rcParams['ytick.labelsize'] = 'x-large'"
   ]
  },
  {
   "cell_type": "markdown",
   "metadata": {
    "id": "ULVkkYZvZ3h2"
   },
   "source": [
    "# Load dataset"
   ]
  },
  {
   "cell_type": "markdown",
   "metadata": {
    "id": "NYbfDW5sZ6AM"
   },
   "source": [
    "Untuk hands-on kita akan melihat dataset sintetik prediksi kebotakan. Agar running time-nya tidak terlalu lama, kali ini kita ambil sampel 1000 baris data saja."
   ]
  },
  {
   "cell_type": "code",
   "execution_count": 3,
   "metadata": {
    "executionInfo": {
     "elapsed": 446,
     "status": "ok",
     "timestamp": 1663505904436,
     "user": {
      "displayName": "Mirza Fahmi",
      "userId": "15453880888796853366"
     },
     "user_tz": -420
    },
    "id": "B92nH4bSFm1s"
   },
   "outputs": [],
   "source": [
    "df = pd.read_csv(\"Food_Delivery_Dataset.csv\")"
   ]
  },
  {
   "cell_type": "markdown",
   "metadata": {
    "id": "Ffcq6G21aLQA"
   },
   "source": [
    "# Descriptive Statistics"
   ]
  },
  {
   "cell_type": "markdown",
   "metadata": {
    "id": "d9hu3MIdaRdI"
   },
   "source": [
    "## Memeriksa kolom-kolom dan nilai hilang dengan `df.info()`\n",
    "\n",
    "Hal pertama yang biasanya dilakukan dalam EDA adalah mengecek tipe data setiap kolom dan jumlah nilai yang hilang. Hal ini bisa kita lakukan dengan menggunakan `df.info()`."
   ]
  },
  {
   "cell_type": "code",
   "execution_count": 4,
   "metadata": {
    "colab": {
     "base_uri": "https://localhost:8080/"
    },
    "executionInfo": {
     "elapsed": 393,
     "status": "ok",
     "timestamp": 1663505916333,
     "user": {
      "displayName": "Mirza Fahmi",
      "userId": "15453880888796853366"
     },
     "user_tz": -420
    },
    "id": "oZUpPDOVFtWt",
    "outputId": "464caea8-d303-4e8b-9843-eaf8a3a7a801"
   },
   "outputs": [
    {
     "name": "stdout",
     "output_type": "stream",
     "text": [
      "<class 'pandas.core.frame.DataFrame'>\n",
      "RangeIndex: 45593 entries, 0 to 45592\n",
      "Data columns (total 20 columns):\n",
      " #   Column                       Non-Null Count  Dtype  \n",
      "---  ------                       --------------  -----  \n",
      " 0   id                           45593 non-null  object \n",
      " 1   delivery_person_id           45593 non-null  object \n",
      " 2   delivery_person_age          43739 non-null  float64\n",
      " 3   delivery_person_ratings      43685 non-null  float64\n",
      " 4   restaurant_latitude          45593 non-null  float64\n",
      " 5   restaurant_longitude         45593 non-null  float64\n",
      " 6   delivery_location_latitude   45593 non-null  float64\n",
      " 7   delivery_location_longitude  45593 non-null  float64\n",
      " 8   order_date                   45593 non-null  object \n",
      " 9   time_orderd                  43862 non-null  object \n",
      " 10  time_order_picked            45593 non-null  object \n",
      " 11  weather_conditions           44977 non-null  object \n",
      " 12  road_traffic_density         44992 non-null  object \n",
      " 13  vehicle_condition            45593 non-null  int64  \n",
      " 14  type_of_order                45593 non-null  object \n",
      " 15  type_of_vehicle              45593 non-null  object \n",
      " 16  multiple_deliveries          44600 non-null  float64\n",
      " 17  festival                     45365 non-null  object \n",
      " 18  city                         44393 non-null  object \n",
      " 19  time_taken_min               45593 non-null  float64\n",
      "dtypes: float64(8), int64(1), object(11)\n",
      "memory usage: 7.0+ MB\n"
     ]
    }
   ],
   "source": [
    "df.info()"
   ]
  },
  {
   "cell_type": "markdown",
   "metadata": {
    "id": "J4Tx2FkRc3RZ"
   },
   "source": [
    "## Sampling untuk memahami data dengan `df.sample()`"
   ]
  },
  {
   "cell_type": "code",
   "execution_count": 5,
   "metadata": {
    "colab": {
     "base_uri": "https://localhost:8080/",
     "height": 270
    },
    "executionInfo": {
     "elapsed": 414,
     "status": "ok",
     "timestamp": 1663505942006,
     "user": {
      "displayName": "Mirza Fahmi",
      "userId": "15453880888796853366"
     },
     "user_tz": -420
    },
    "id": "7k3cYzMxdIsx",
    "outputId": "3558403c-4230-45bc-e9a7-67bd6a3a358a"
   },
   "outputs": [
    {
     "data": {
      "text/html": [
       "<div>\n",
       "<style scoped>\n",
       "    .dataframe tbody tr th:only-of-type {\n",
       "        vertical-align: middle;\n",
       "    }\n",
       "\n",
       "    .dataframe tbody tr th {\n",
       "        vertical-align: top;\n",
       "    }\n",
       "\n",
       "    .dataframe thead th {\n",
       "        text-align: right;\n",
       "    }\n",
       "</style>\n",
       "<table border=\"1\" class=\"dataframe\">\n",
       "  <thead>\n",
       "    <tr style=\"text-align: right;\">\n",
       "      <th></th>\n",
       "      <th>id</th>\n",
       "      <th>delivery_person_id</th>\n",
       "      <th>delivery_person_age</th>\n",
       "      <th>delivery_person_ratings</th>\n",
       "      <th>restaurant_latitude</th>\n",
       "      <th>restaurant_longitude</th>\n",
       "      <th>delivery_location_latitude</th>\n",
       "      <th>delivery_location_longitude</th>\n",
       "      <th>order_date</th>\n",
       "      <th>time_orderd</th>\n",
       "      <th>time_order_picked</th>\n",
       "      <th>weather_conditions</th>\n",
       "      <th>road_traffic_density</th>\n",
       "      <th>vehicle_condition</th>\n",
       "      <th>type_of_order</th>\n",
       "      <th>type_of_vehicle</th>\n",
       "      <th>multiple_deliveries</th>\n",
       "      <th>festival</th>\n",
       "      <th>city</th>\n",
       "      <th>time_taken_min</th>\n",
       "    </tr>\n",
       "  </thead>\n",
       "  <tbody>\n",
       "    <tr>\n",
       "      <th>16416</th>\n",
       "      <td>0xc79</td>\n",
       "      <td>MYSRES04DEL03</td>\n",
       "      <td>33.0</td>\n",
       "      <td>4.6</td>\n",
       "      <td>12.308500</td>\n",
       "      <td>76.665808</td>\n",
       "      <td>12.338500</td>\n",
       "      <td>76.695808</td>\n",
       "      <td>01-03-2022</td>\n",
       "      <td>22:15</td>\n",
       "      <td>22:25</td>\n",
       "      <td>Windy</td>\n",
       "      <td>Low</td>\n",
       "      <td>1</td>\n",
       "      <td>Meal</td>\n",
       "      <td>scooter</td>\n",
       "      <td>1.0</td>\n",
       "      <td>No</td>\n",
       "      <td>Urban</td>\n",
       "      <td>24.0</td>\n",
       "    </tr>\n",
       "    <tr>\n",
       "      <th>5307</th>\n",
       "      <td>0x6597</td>\n",
       "      <td>BANGRES12DEL01</td>\n",
       "      <td>32.0</td>\n",
       "      <td>4.6</td>\n",
       "      <td>12.939496</td>\n",
       "      <td>77.625999</td>\n",
       "      <td>13.049496</td>\n",
       "      <td>77.735999</td>\n",
       "      <td>04-04-2022</td>\n",
       "      <td>17:10</td>\n",
       "      <td>17:15</td>\n",
       "      <td>Sandstorms</td>\n",
       "      <td>Medium</td>\n",
       "      <td>2</td>\n",
       "      <td>Meal</td>\n",
       "      <td>motorcycle</td>\n",
       "      <td>0.0</td>\n",
       "      <td>No</td>\n",
       "      <td>Urban</td>\n",
       "      <td>25.0</td>\n",
       "    </tr>\n",
       "    <tr>\n",
       "      <th>9549</th>\n",
       "      <td>0xa3e8</td>\n",
       "      <td>HYDRES13DEL03</td>\n",
       "      <td>23.0</td>\n",
       "      <td>4.6</td>\n",
       "      <td>17.431477</td>\n",
       "      <td>78.400350</td>\n",
       "      <td>17.521477</td>\n",
       "      <td>78.490350</td>\n",
       "      <td>23-03-2022</td>\n",
       "      <td>19:55</td>\n",
       "      <td>19:60</td>\n",
       "      <td>Sunny</td>\n",
       "      <td>Jam</td>\n",
       "      <td>0</td>\n",
       "      <td>Snack</td>\n",
       "      <td>motorcycle</td>\n",
       "      <td>2.0</td>\n",
       "      <td>No</td>\n",
       "      <td>Metropolitian</td>\n",
       "      <td>33.0</td>\n",
       "    </tr>\n",
       "    <tr>\n",
       "      <th>20122</th>\n",
       "      <td>0x9593</td>\n",
       "      <td>COIMBRES17DEL02</td>\n",
       "      <td>26.0</td>\n",
       "      <td>4.7</td>\n",
       "      <td>11.026117</td>\n",
       "      <td>76.944652</td>\n",
       "      <td>11.046117</td>\n",
       "      <td>76.964652</td>\n",
       "      <td>15-03-2022</td>\n",
       "      <td>9:25</td>\n",
       "      <td>9:30</td>\n",
       "      <td>Fog</td>\n",
       "      <td>Low</td>\n",
       "      <td>1</td>\n",
       "      <td>Drinks</td>\n",
       "      <td>motorcycle</td>\n",
       "      <td>1.0</td>\n",
       "      <td>No</td>\n",
       "      <td>Metropolitian</td>\n",
       "      <td>17.0</td>\n",
       "    </tr>\n",
       "    <tr>\n",
       "      <th>29181</th>\n",
       "      <td>0xd9e3</td>\n",
       "      <td>KNPRES01DEL02</td>\n",
       "      <td>32.0</td>\n",
       "      <td>4.6</td>\n",
       "      <td>26.483672</td>\n",
       "      <td>80.320708</td>\n",
       "      <td>26.503672</td>\n",
       "      <td>80.340708</td>\n",
       "      <td>13-02-2022</td>\n",
       "      <td>11:55</td>\n",
       "      <td>11:60</td>\n",
       "      <td>Sandstorms</td>\n",
       "      <td>High</td>\n",
       "      <td>2</td>\n",
       "      <td>Drinks</td>\n",
       "      <td>scooter</td>\n",
       "      <td>1.0</td>\n",
       "      <td>No</td>\n",
       "      <td>Metropolitian</td>\n",
       "      <td>25.0</td>\n",
       "    </tr>\n",
       "  </tbody>\n",
       "</table>\n",
       "</div>"
      ],
      "text/plain": [
       "           id delivery_person_id  delivery_person_age  \\\n",
       "16416   0xc79      MYSRES04DEL03                 33.0   \n",
       "5307   0x6597     BANGRES12DEL01                 32.0   \n",
       "9549   0xa3e8      HYDRES13DEL03                 23.0   \n",
       "20122  0x9593    COIMBRES17DEL02                 26.0   \n",
       "29181  0xd9e3      KNPRES01DEL02                 32.0   \n",
       "\n",
       "       delivery_person_ratings  restaurant_latitude  restaurant_longitude  \\\n",
       "16416                      4.6            12.308500             76.665808   \n",
       "5307                       4.6            12.939496             77.625999   \n",
       "9549                       4.6            17.431477             78.400350   \n",
       "20122                      4.7            11.026117             76.944652   \n",
       "29181                      4.6            26.483672             80.320708   \n",
       "\n",
       "       delivery_location_latitude  delivery_location_longitude  order_date  \\\n",
       "16416                   12.338500                    76.695808  01-03-2022   \n",
       "5307                    13.049496                    77.735999  04-04-2022   \n",
       "9549                    17.521477                    78.490350  23-03-2022   \n",
       "20122                   11.046117                    76.964652  15-03-2022   \n",
       "29181                   26.503672                    80.340708  13-02-2022   \n",
       "\n",
       "      time_orderd time_order_picked weather_conditions road_traffic_density  \\\n",
       "16416       22:15             22:25              Windy                  Low   \n",
       "5307        17:10             17:15         Sandstorms               Medium   \n",
       "9549        19:55             19:60              Sunny                  Jam   \n",
       "20122        9:25              9:30                Fog                  Low   \n",
       "29181       11:55             11:60         Sandstorms                 High   \n",
       "\n",
       "       vehicle_condition type_of_order type_of_vehicle  multiple_deliveries  \\\n",
       "16416                  1          Meal         scooter                  1.0   \n",
       "5307                   2          Meal      motorcycle                  0.0   \n",
       "9549                   0         Snack      motorcycle                  2.0   \n",
       "20122                  1        Drinks      motorcycle                  1.0   \n",
       "29181                  2        Drinks         scooter                  1.0   \n",
       "\n",
       "      festival           city  time_taken_min  \n",
       "16416       No          Urban            24.0  \n",
       "5307        No          Urban            25.0  \n",
       "9549        No  Metropolitian            33.0  \n",
       "20122       No  Metropolitian            17.0  \n",
       "29181       No  Metropolitian            25.0  "
      ]
     },
     "execution_count": 5,
     "metadata": {},
     "output_type": "execute_result"
    }
   ],
   "source": [
    "df.sample(5)"
   ]
  },
  {
   "cell_type": "code",
   "execution_count": 6,
   "metadata": {
    "executionInfo": {
     "elapsed": 475,
     "status": "ok",
     "timestamp": 1663506051884,
     "user": {
      "displayName": "Mirza Fahmi",
      "userId": "15453880888796853366"
     },
     "user_tz": -420
    },
    "id": "b3F4GH4edrH_"
   },
   "outputs": [],
   "source": [
    "# pengelompokan kolom berdasarkan jenisnya\n",
    "cats = ['id', 'delivery_person_id', 'weather_conditions', 'road_traffic_density', 'type_of_order', 'type_of_vehicle', 'festival', 'city']\n",
    "nums = ['delivery_person_age', 'delivery_person_ratings', 'vehicle_condition', 'multiple_deliveries', 'time_taken_min']\n",
    "timestamp = ['order_date', 'time_orderd', 'time_order_picked']\n",
    "geoloc = ['restaurant_latitude', 'restaurant_longitude', 'delivery_location_latitude', 'delivery_location_longitude']"
   ]
  },
  {
   "cell_type": "code",
   "execution_count": 7,
   "metadata": {
    "colab": {
     "base_uri": "https://localhost:8080/",
     "height": 300
    },
    "executionInfo": {
     "elapsed": 949,
     "status": "ok",
     "timestamp": 1663506058636,
     "user": {
      "displayName": "Mirza Fahmi",
      "userId": "15453880888796853366"
     },
     "user_tz": -420
    },
    "id": "o8iqVD0_dNl2",
    "outputId": "c50cdc83-708a-46e9-8c3e-2692fc284d28"
   },
   "outputs": [
    {
     "data": {
      "text/html": [
       "<div>\n",
       "<style scoped>\n",
       "    .dataframe tbody tr th:only-of-type {\n",
       "        vertical-align: middle;\n",
       "    }\n",
       "\n",
       "    .dataframe tbody tr th {\n",
       "        vertical-align: top;\n",
       "    }\n",
       "\n",
       "    .dataframe thead th {\n",
       "        text-align: right;\n",
       "    }\n",
       "</style>\n",
       "<table border=\"1\" class=\"dataframe\">\n",
       "  <thead>\n",
       "    <tr style=\"text-align: right;\">\n",
       "      <th></th>\n",
       "      <th>delivery_person_age</th>\n",
       "      <th>delivery_person_ratings</th>\n",
       "      <th>vehicle_condition</th>\n",
       "      <th>multiple_deliveries</th>\n",
       "      <th>time_taken_min</th>\n",
       "    </tr>\n",
       "  </thead>\n",
       "  <tbody>\n",
       "    <tr>\n",
       "      <th>count</th>\n",
       "      <td>43739.000000</td>\n",
       "      <td>43685.000000</td>\n",
       "      <td>45593.000000</td>\n",
       "      <td>44600.000000</td>\n",
       "      <td>45593.000000</td>\n",
       "    </tr>\n",
       "    <tr>\n",
       "      <th>mean</th>\n",
       "      <td>29.567137</td>\n",
       "      <td>4.633780</td>\n",
       "      <td>1.023359</td>\n",
       "      <td>0.744664</td>\n",
       "      <td>26.294607</td>\n",
       "    </tr>\n",
       "    <tr>\n",
       "      <th>std</th>\n",
       "      <td>5.815155</td>\n",
       "      <td>0.334716</td>\n",
       "      <td>0.839065</td>\n",
       "      <td>0.572473</td>\n",
       "      <td>9.383806</td>\n",
       "    </tr>\n",
       "    <tr>\n",
       "      <th>min</th>\n",
       "      <td>15.000000</td>\n",
       "      <td>1.000000</td>\n",
       "      <td>0.000000</td>\n",
       "      <td>0.000000</td>\n",
       "      <td>10.000000</td>\n",
       "    </tr>\n",
       "    <tr>\n",
       "      <th>25%</th>\n",
       "      <td>25.000000</td>\n",
       "      <td>4.500000</td>\n",
       "      <td>0.000000</td>\n",
       "      <td>0.000000</td>\n",
       "      <td>19.000000</td>\n",
       "    </tr>\n",
       "    <tr>\n",
       "      <th>50%</th>\n",
       "      <td>30.000000</td>\n",
       "      <td>4.700000</td>\n",
       "      <td>1.000000</td>\n",
       "      <td>1.000000</td>\n",
       "      <td>26.000000</td>\n",
       "    </tr>\n",
       "    <tr>\n",
       "      <th>75%</th>\n",
       "      <td>35.000000</td>\n",
       "      <td>4.900000</td>\n",
       "      <td>2.000000</td>\n",
       "      <td>1.000000</td>\n",
       "      <td>32.000000</td>\n",
       "    </tr>\n",
       "    <tr>\n",
       "      <th>max</th>\n",
       "      <td>50.000000</td>\n",
       "      <td>6.000000</td>\n",
       "      <td>3.000000</td>\n",
       "      <td>3.000000</td>\n",
       "      <td>54.000000</td>\n",
       "    </tr>\n",
       "  </tbody>\n",
       "</table>\n",
       "</div>"
      ],
      "text/plain": [
       "       delivery_person_age  delivery_person_ratings  vehicle_condition  \\\n",
       "count         43739.000000             43685.000000       45593.000000   \n",
       "mean             29.567137                 4.633780           1.023359   \n",
       "std               5.815155                 0.334716           0.839065   \n",
       "min              15.000000                 1.000000           0.000000   \n",
       "25%              25.000000                 4.500000           0.000000   \n",
       "50%              30.000000                 4.700000           1.000000   \n",
       "75%              35.000000                 4.900000           2.000000   \n",
       "max              50.000000                 6.000000           3.000000   \n",
       "\n",
       "       multiple_deliveries  time_taken_min  \n",
       "count         44600.000000    45593.000000  \n",
       "mean              0.744664       26.294607  \n",
       "std               0.572473        9.383806  \n",
       "min               0.000000       10.000000  \n",
       "25%               0.000000       19.000000  \n",
       "50%               1.000000       26.000000  \n",
       "75%               1.000000       32.000000  \n",
       "max               3.000000       54.000000  "
      ]
     },
     "execution_count": 7,
     "metadata": {},
     "output_type": "execute_result"
    }
   ],
   "source": [
    "df[nums].describe()"
   ]
  },
  {
   "cell_type": "code",
   "execution_count": 8,
   "metadata": {
    "colab": {
     "base_uri": "https://localhost:8080/",
     "height": 175
    },
    "executionInfo": {
     "elapsed": 701,
     "status": "ok",
     "timestamp": 1663506150529,
     "user": {
      "displayName": "Mirza Fahmi",
      "userId": "15453880888796853366"
     },
     "user_tz": -420
    },
    "id": "-gCyyiLYeZza",
    "outputId": "7aea106e-9f65-4498-9c53-777f90abffe4"
   },
   "outputs": [
    {
     "data": {
      "text/html": [
       "<div>\n",
       "<style scoped>\n",
       "    .dataframe tbody tr th:only-of-type {\n",
       "        vertical-align: middle;\n",
       "    }\n",
       "\n",
       "    .dataframe tbody tr th {\n",
       "        vertical-align: top;\n",
       "    }\n",
       "\n",
       "    .dataframe thead th {\n",
       "        text-align: right;\n",
       "    }\n",
       "</style>\n",
       "<table border=\"1\" class=\"dataframe\">\n",
       "  <thead>\n",
       "    <tr style=\"text-align: right;\">\n",
       "      <th></th>\n",
       "      <th>id</th>\n",
       "      <th>delivery_person_id</th>\n",
       "      <th>weather_conditions</th>\n",
       "      <th>road_traffic_density</th>\n",
       "      <th>type_of_order</th>\n",
       "      <th>type_of_vehicle</th>\n",
       "      <th>festival</th>\n",
       "      <th>city</th>\n",
       "    </tr>\n",
       "  </thead>\n",
       "  <tbody>\n",
       "    <tr>\n",
       "      <th>count</th>\n",
       "      <td>45593</td>\n",
       "      <td>45593</td>\n",
       "      <td>44977</td>\n",
       "      <td>44992</td>\n",
       "      <td>45593</td>\n",
       "      <td>45593</td>\n",
       "      <td>45365</td>\n",
       "      <td>44393</td>\n",
       "    </tr>\n",
       "    <tr>\n",
       "      <th>unique</th>\n",
       "      <td>45593</td>\n",
       "      <td>1320</td>\n",
       "      <td>6</td>\n",
       "      <td>4</td>\n",
       "      <td>4</td>\n",
       "      <td>4</td>\n",
       "      <td>2</td>\n",
       "      <td>3</td>\n",
       "    </tr>\n",
       "    <tr>\n",
       "      <th>top</th>\n",
       "      <td>0x6b1a</td>\n",
       "      <td>JAPRES11DEL02</td>\n",
       "      <td>Fog</td>\n",
       "      <td>Low</td>\n",
       "      <td>Snack</td>\n",
       "      <td>motorcycle</td>\n",
       "      <td>No</td>\n",
       "      <td>Metropolitian</td>\n",
       "    </tr>\n",
       "    <tr>\n",
       "      <th>freq</th>\n",
       "      <td>1</td>\n",
       "      <td>67</td>\n",
       "      <td>7654</td>\n",
       "      <td>15477</td>\n",
       "      <td>11533</td>\n",
       "      <td>26435</td>\n",
       "      <td>44469</td>\n",
       "      <td>34093</td>\n",
       "    </tr>\n",
       "  </tbody>\n",
       "</table>\n",
       "</div>"
      ],
      "text/plain": [
       "            id delivery_person_id weather_conditions road_traffic_density  \\\n",
       "count    45593              45593              44977                44992   \n",
       "unique   45593               1320                  6                    4   \n",
       "top     0x6b1a      JAPRES11DEL02                Fog                  Low   \n",
       "freq         1                 67               7654                15477   \n",
       "\n",
       "       type_of_order type_of_vehicle festival           city  \n",
       "count          45593           45593    45365          44393  \n",
       "unique             4               4        2              3  \n",
       "top            Snack      motorcycle       No  Metropolitian  \n",
       "freq           11533           26435    44469          34093  "
      ]
     },
     "execution_count": 8,
     "metadata": {},
     "output_type": "execute_result"
    }
   ],
   "source": [
    "df[cats].describe()"
   ]
  },
  {
   "cell_type": "code",
   "execution_count": 9,
   "metadata": {
    "colab": {
     "base_uri": "https://localhost:8080/"
    },
    "executionInfo": {
     "elapsed": 394,
     "status": "ok",
     "timestamp": 1663506251896,
     "user": {
      "displayName": "Mirza Fahmi",
      "userId": "15453880888796853366"
     },
     "user_tz": -420
    },
    "id": "CReBuCumdSfJ",
    "outputId": "abea990a-5bac-45eb-8db5-8439ce7dd3df"
   },
   "outputs": [
    {
     "data": {
      "text/plain": [
       "id                                0\n",
       "delivery_person_id                0\n",
       "delivery_person_age            1854\n",
       "delivery_person_ratings        1908\n",
       "restaurant_latitude               0\n",
       "restaurant_longitude              0\n",
       "delivery_location_latitude        0\n",
       "delivery_location_longitude       0\n",
       "order_date                        0\n",
       "time_orderd                    1731\n",
       "time_order_picked                 0\n",
       "weather_conditions              616\n",
       "road_traffic_density            601\n",
       "vehicle_condition                 0\n",
       "type_of_order                     0\n",
       "type_of_vehicle                   0\n",
       "multiple_deliveries             993\n",
       "festival                        228\n",
       "city                           1200\n",
       "time_taken_min                    0\n",
       "dtype: int64"
      ]
     },
     "execution_count": 9,
     "metadata": {},
     "output_type": "execute_result"
    }
   ],
   "source": [
    "df.isna().sum()"
   ]
  },
  {
   "cell_type": "code",
   "execution_count": 10,
   "metadata": {
    "colab": {
     "base_uri": "https://localhost:8080/"
    },
    "executionInfo": {
     "elapsed": 651,
     "status": "ok",
     "timestamp": 1663506272547,
     "user": {
      "displayName": "Mirza Fahmi",
      "userId": "15453880888796853366"
     },
     "user_tz": -420
    },
    "id": "dVchxje0edkz",
    "outputId": "7f0be458-2489-40ec-9edd-c196a4b48d63"
   },
   "outputs": [
    {
     "name": "stdout",
     "output_type": "stream",
     "text": [
      "Value count kolom id:\n",
      "0x6b1a    1\n",
      "0x255a    1\n",
      "0x2d96    1\n",
      "0xb028    1\n",
      "0x41be    1\n",
      "         ..\n",
      "0x4657    1\n",
      "0x4a7f    1\n",
      "0x6d2     1\n",
      "0x26a8    1\n",
      "0x9b47    1\n",
      "Name: id, Length: 45593, dtype: int64\n",
      "\n",
      "Value count kolom delivery_person_id:\n",
      "JAPRES11DEL02       67\n",
      "PUNERES01DEL01      67\n",
      "RANCHIRES02DEL01    66\n",
      "JAPRES03DEL01       66\n",
      "VADRES11DEL02       66\n",
      "                    ..\n",
      "GOARES01DEL03        7\n",
      "BHPRES15DEL03        7\n",
      "KOLRES09DEL03        6\n",
      "KOCRES16DEL03        6\n",
      "BHPRES010DEL03       5\n",
      "Name: delivery_person_id, Length: 1320, dtype: int64\n",
      "\n",
      "Value count kolom weather_conditions:\n",
      "Fog           7654\n",
      "Stormy        7586\n",
      "Cloudy        7536\n",
      "Sandstorms    7495\n",
      "Windy         7422\n",
      "Sunny         7284\n",
      "Name: weather_conditions, dtype: int64\n",
      "\n",
      "Value count kolom road_traffic_density:\n",
      "Low       15477\n",
      "Jam       14143\n",
      "Medium    10947\n",
      "High       4425\n",
      "Name: road_traffic_density, dtype: int64\n",
      "\n",
      "Value count kolom type_of_order:\n",
      "Snack     11533\n",
      "Meal      11458\n",
      "Drinks    11322\n",
      "Buffet    11280\n",
      "Name: type_of_order, dtype: int64\n",
      "\n",
      "Value count kolom type_of_vehicle:\n",
      "motorcycle          26435\n",
      "scooter             15276\n",
      "electric_scooter     3814\n",
      "bicycle                68\n",
      "Name: type_of_vehicle, dtype: int64\n",
      "\n",
      "Value count kolom festival:\n",
      "No     44469\n",
      "Yes      896\n",
      "Name: festival, dtype: int64\n",
      "\n",
      "Value count kolom city:\n",
      "Metropolitian    34093\n",
      "Urban            10136\n",
      "Semi-Urban         164\n",
      "Name: city, dtype: int64\n",
      "\n"
     ]
    }
   ],
   "source": [
    "for col in cats:\n",
    "    print(f'''Value count kolom {col}:''')\n",
    "    print(df[col].value_counts())\n",
    "    print()"
   ]
  },
  {
   "cell_type": "code",
   "execution_count": 11,
   "metadata": {
    "colab": {
     "base_uri": "https://localhost:8080/",
     "height": 297
    },
    "executionInfo": {
     "elapsed": 1435,
     "status": "ok",
     "timestamp": 1663506327983,
     "user": {
      "displayName": "Mirza Fahmi",
      "userId": "15453880888796853366"
     },
     "user_tz": -420
    },
    "id": "edAON-DGe0LX",
    "outputId": "a9e8f03e-b87d-4f17-d8ff-16af3d4ef095"
   },
   "outputs": [
    {
     "data": {
      "image/png": "[encoded data removed]",
      "text/plain": [
       "<Figure size 1200x400 with 5 Axes>"
      ]
     },
     "metadata": {},
     "output_type": "display_data"
    }
   ],
   "source": [
    "for i in range(0, len(nums)):\n",
    "    plt.subplot(1, len(nums), i+1)\n",
    "    sns.boxplot(y=df[nums[i]], color='green', orient='v')\n",
    "    plt.tight_layout()"
   ]
  },
  {
   "cell_type": "code",
   "execution_count": 12,
   "metadata": {
    "colab": {
     "base_uri": "https://localhost:8080/",
     "height": 412
    },
    "executionInfo": {
     "elapsed": 3387,
     "status": "ok",
     "timestamp": 1663506373696,
     "user": {
      "displayName": "Mirza Fahmi",
      "userId": "15453880888796853366"
     },
     "user_tz": -420
    },
    "id": "myo1kdjRe7YI",
    "outputId": "54eae697-05db-4836-ca76-dcaf6ca710d6"
   },
   "outputs": [
    {
     "name": "stderr",
     "output_type": "stream",
     "text": [
      "C:\\Users\\Ghozy Abror\\AppData\\Local\\Temp\\ipykernel_26148\\4275355014.py:4: UserWarning: \n",
      "\n",
      "`distplot` is a deprecated function and will be removed in seaborn v0.14.0.\n",
      "\n",
      "Please adapt your code to use either `displot` (a figure-level function with\n",
      "similar flexibility) or `histplot` (an axes-level function for histograms).\n",
      "\n",
      "For a guide to updating your code to use the new functions, please see\n",
      "https://gist.github.com/mwaskom/de44147ed2974457ad6372750bbe5751\n",
      "\n",
      "  sns.distplot(df[nums[i]], color='gray')\n",
      "C:\\Users\\Ghozy Abror\\AppData\\Local\\Temp\\ipykernel_26148\\4275355014.py:4: UserWarning: \n",
      "\n",
      "`distplot` is a deprecated function and will be removed in seaborn v0.14.0.\n",
      "\n",
      "Please adapt your code to use either `displot` (a figure-level function with\n",
      "similar flexibility) or `histplot` (an axes-level function for histograms).\n",
      "\n",
      "For a guide to updating your code to use the new functions, please see\n",
      "https://gist.github.com/mwaskom/de44147ed2974457ad6372750bbe5751\n",
      "\n",
      "  sns.distplot(df[nums[i]], color='gray')\n",
      "C:\\Users\\Ghozy Abror\\AppData\\Local\\Temp\\ipykernel_26148\\4275355014.py:4: UserWarning: \n",
      "\n",
      "`distplot` is a deprecated function and will be removed in seaborn v0.14.0.\n",
      "\n",
      "Please adapt your code to use either `displot` (a figure-level function with\n",
      "similar flexibility) or `histplot` (an axes-level function for histograms).\n",
      "\n",
      "For a guide to updating your code to use the new functions, please see\n",
      "https://gist.github.com/mwaskom/de44147ed2974457ad6372750bbe5751\n",
      "\n",
      "  sns.distplot(df[nums[i]], color='gray')\n",
      "C:\\Users\\Ghozy Abror\\AppData\\Local\\Temp\\ipykernel_26148\\4275355014.py:4: UserWarning: \n",
      "\n",
      "`distplot` is a deprecated function and will be removed in seaborn v0.14.0.\n",
      "\n",
      "Please adapt your code to use either `displot` (a figure-level function with\n",
      "similar flexibility) or `histplot` (an axes-level function for histograms).\n",
      "\n",
      "For a guide to updating your code to use the new functions, please see\n",
      "https://gist.github.com/mwaskom/de44147ed2974457ad6372750bbe5751\n",
      "\n",
      "  sns.distplot(df[nums[i]], color='gray')\n",
      "C:\\Users\\Ghozy Abror\\AppData\\Local\\Temp\\ipykernel_26148\\4275355014.py:4: UserWarning: \n",
      "\n",
      "`distplot` is a deprecated function and will be removed in seaborn v0.14.0.\n",
      "\n",
      "Please adapt your code to use either `displot` (a figure-level function with\n",
      "similar flexibility) or `histplot` (an axes-level function for histograms).\n",
      "\n",
      "For a guide to updating your code to use the new functions, please see\n",
      "https://gist.github.com/mwaskom/de44147ed2974457ad6372750bbe5751\n",
      "\n",
      "  sns.distplot(df[nums[i]], color='gray')\n"
     ]
    },
    {
     "data": {
      "image/png": "[encoded data removed]",
      "text/plain": [
       "<Figure size 1200x500 with 5 Axes>"
      ]
     },
     "metadata": {},
     "output_type": "display_data"
    }
   ],
   "source": [
    "plt.figure(figsize=(12, 5))\n",
    "for i in range(0, len(nums)):\n",
    "    plt.subplot(2, len(nums), i+1)\n",
    "    sns.distplot(df[nums[i]], color='gray')\n",
    "    plt.tight_layout()"
   ]
  },
  {
   "cell_type": "code",
   "execution_count": 13,
   "metadata": {
    "colab": {
     "base_uri": "https://localhost:8080/",
     "height": 297
    },
    "executionInfo": {
     "elapsed": 2193,
     "status": "ok",
     "timestamp": 1663506412925,
     "user": {
      "displayName": "Mirza Fahmi",
      "userId": "15453880888796853366"
     },
     "user_tz": -420
    },
    "id": "LzFQSjWwYpm-",
    "outputId": "e770bbd1-985c-47e6-e995-a46e55ffc6a1"
   },
   "outputs": [
    {
     "data": {
      "image/png": "[encoded data removed]",
      "text/plain": [
       "<Figure size 1200x400 with 5 Axes>"
      ]
     },
     "metadata": {},
     "output_type": "display_data"
    }
   ],
   "source": [
    "for i in range(0, len(nums)):\n",
    "    plt.subplot(1, len(nums), i+1)\n",
    "    sns.violinplot(y=df[nums[i]], color='gray', orient='v')\n",
    "    plt.tight_layout()"
   ]
  },
  {
   "cell_type": "code",
   "execution_count": null,
   "metadata": {
    "colab": {
     "base_uri": "https://localhost:8080/",
     "height": 531
    },
    "executionInfo": {
     "elapsed": 1937,
     "status": "ok",
     "timestamp": 1663506461405,
     "user": {
      "displayName": "Mirza Fahmi",
      "userId": "15453880888796853366"
     },
     "user_tz": -420
    },
    "id": "5WvnYp2qfCfZ",
    "outputId": "f368a319-891a-402a-b583-1348ceb99aa2"
   },
   "outputs": [],
   "source": [
    "for i in range(0, len(cats[2:])):\n",
    "    plt.subplot(2, 3, i+1)\n",
    "    sns.countplot(df[cats[2:][i]], color='gray', orient='h')\n",
    "    plt.tight_layout()"
   ]
  },
  {
   "cell_type": "code",
   "execution_count": null,
   "metadata": {
    "colab": {
     "base_uri": "https://localhost:8080/",
     "height": 396
    },
    "executionInfo": {
     "elapsed": 748,
     "status": "ok",
     "timestamp": 1663506823984,
     "user": {
      "displayName": "Mirza Fahmi",
      "userId": "15453880888796853366"
     },
     "user_tz": -420
    },
    "id": "r4eIfi-If3ie",
    "outputId": "da609050-e03e-4c6d-f7be-247350c9f0a9"
   },
   "outputs": [],
   "source": [
    "df.corr()"
   ]
  },
  {
   "cell_type": "code",
   "execution_count": null,
   "metadata": {
    "colab": {
     "base_uri": "https://localhost:8080/",
     "height": 694
    },
    "executionInfo": {
     "elapsed": 1580,
     "status": "ok",
     "timestamp": 1663506845640,
     "user": {
      "displayName": "Mirza Fahmi",
      "userId": "15453880888796853366"
     },
     "user_tz": -420
    },
    "id": "oMdfZUkEjEak",
    "outputId": "3de9ee82-a698-4315-80d1-379d6d46473c"
   },
   "outputs": [],
   "source": [
    "plt.figure(figsize=(8, 8))\n",
    "sns.heatmap(df.corr(), cmap='Blues', annot=True, fmt='.2f')"
   ]
  },
  {
   "cell_type": "code",
   "execution_count": null,
   "metadata": {
    "colab": {
     "base_uri": "https://localhost:8080/",
     "height": 1000
    },
    "executionInfo": {
     "elapsed": 47125,
     "status": "ok",
     "timestamp": 1663507099443,
     "user": {
      "displayName": "Mirza Fahmi",
      "userId": "15453880888796853366"
     },
     "user_tz": -420
    },
    "id": "zGLftSUljIQG",
    "outputId": "87d3c873-67f1-4155-dbe7-f2293eec67bf"
   },
   "outputs": [],
   "source": [
    "plt.figure(figsize=(15, 15))\n",
    "sns.pairplot(df, diag_kind='kde')"
   ]
  },
  {
   "cell_type": "code",
   "execution_count": null,
   "metadata": {
    "colab": {
     "base_uri": "https://localhost:8080/",
     "height": 757
    },
    "executionInfo": {
     "elapsed": 4583,
     "status": "ok",
     "timestamp": 1663507171397,
     "user": {
      "displayName": "Mirza Fahmi",
      "userId": "15453880888796853366"
     },
     "user_tz": -420
    },
    "id": "tBKN49pzjQtt",
    "outputId": "a039dc00-351c-4a14-966a-7acc5031f626"
   },
   "outputs": [],
   "source": [
    "fig = plt.figure(figsize=(15, 15))\n",
    "for i in range(0, len(nums)): # untuk setiap kolom numerik\n",
    "    ax = fig.add_subplot(3, 3, i+1) # kita set posisi catplot/stripplotnya di layout\n",
    "    sns.stripplot(ax=ax, data=df, x='weather_conditions', y=nums[i]) # gambar catplot/stripplotnya\n",
    "    plt.tight_layout()"
   ]
  },
  {
   "cell_type": "code",
   "execution_count": null,
   "metadata": {
    "colab": {
     "base_uri": "https://localhost:8080/",
     "height": 756
    },
    "executionInfo": {
     "elapsed": 4310,
     "status": "ok",
     "timestamp": 1663507255309,
     "user": {
      "displayName": "Mirza Fahmi",
      "userId": "15453880888796853366"
     },
     "user_tz": -420
    },
    "id": "Lwu9-Jo1jmAF",
    "outputId": "b75c733f-6f3d-4fcc-b031-cab5f2c820a4"
   },
   "outputs": [],
   "source": [
    "fig = plt.figure(figsize=(15, 15))\n",
    "for i in range(0, len(nums)): # untuk setiap kolom numerik\n",
    "    ax = fig.add_subplot(3, 3, i+1) # kita set posisi catplot/stripplotnya di layout\n",
    "    sns.stripplot(ax=ax, data=df, x='city', y=nums[i]) # gambar catplot/stripplotnya\n",
    "    plt.tight_layout()"
   ]
  },
  {
   "cell_type": "code",
   "execution_count": null,
   "metadata": {
    "colab": {
     "base_uri": "https://localhost:8080/",
     "height": 757
    },
    "executionInfo": {
     "elapsed": 5259,
     "status": "ok",
     "timestamp": 1663507334425,
     "user": {
      "displayName": "Mirza Fahmi",
      "userId": "15453880888796853366"
     },
     "user_tz": -420
    },
    "id": "xhSaces6jvPF",
    "outputId": "0027fb33-42ed-40c1-c762-6b6fe9374efe"
   },
   "outputs": [],
   "source": [
    "fig = plt.figure(figsize=(15, 15))\n",
    "for i in range(0, len(nums)): # untuk setiap kolom numerik\n",
    "    ax = fig.add_subplot(3, 3, i+1) # kita set posisi catplot/stripplotnya di layout\n",
    "    sns.stripplot(ax=ax, data=df, x='road_traffic_density', y=nums[i]) # gambar catplot/stripplotnya\n",
    "    plt.tight_layout()"
   ]
  },
  {
   "cell_type": "code",
   "execution_count": null,
   "metadata": {
    "colab": {
     "base_uri": "https://localhost:8080/",
     "height": 757
    },
    "executionInfo": {
     "elapsed": 5104,
     "status": "ok",
     "timestamp": 1663507379306,
     "user": {
      "displayName": "Mirza Fahmi",
      "userId": "15453880888796853366"
     },
     "user_tz": -420
    },
    "id": "LLpNexWOknh3",
    "outputId": "a456016a-974a-43c4-b0d9-22c018eaa720"
   },
   "outputs": [],
   "source": [
    "fig = plt.figure(figsize=(15, 15))\n",
    "for i in range(0, len(nums)): # untuk setiap kolom numerik\n",
    "    ax = fig.add_subplot(3, 3, i+1) # kita set posisi catplot/stripplotnya di layout\n",
    "    sns.stripplot(ax=ax, data=df, x='type_of_order', y=nums[i]) # gambar catplot/stripplotnya\n",
    "    plt.tight_layout()"
   ]
  },
  {
   "cell_type": "code",
   "execution_count": null,
   "metadata": {
    "colab": {
     "base_uri": "https://localhost:8080/",
     "height": 757
    },
    "executionInfo": {
     "elapsed": 4462,
     "status": "ok",
     "timestamp": 1663507400305,
     "user": {
      "displayName": "Mirza Fahmi",
      "userId": "15453880888796853366"
     },
     "user_tz": -420
    },
    "id": "7Qi3-CPpkxy6",
    "outputId": "6d093ba6-91d0-4a39-8c48-e9461816ca88"
   },
   "outputs": [],
   "source": [
    "fig = plt.figure(figsize=(15, 15))\n",
    "for i in range(0, len(nums)): # untuk setiap kolom numerik\n",
    "    ax = fig.add_subplot(3, 3, i+1) # kita set posisi catplot/stripplotnya di layout\n",
    "    sns.stripplot(ax=ax, data=df, x='type_of_vehicle', y=nums[i]) # gambar catplot/stripplotnya\n",
    "    plt.tight_layout()"
   ]
  },
  {
   "cell_type": "code",
   "execution_count": null,
   "metadata": {
    "id": "_fE0PmpXk6Rs"
   },
   "outputs": [],
   "source": []
  }
 ],
 "metadata": {
  "colab": {
   "authorship_tag": "ABX9TyPrnL59ZEy9t2N6ZBp2kvMm",
   "provenance": []
  },
  "kernelspec": {
   "display_name": "Python 3 (ipykernel)",
   "language": "python",
   "name": "python3"
  },
  "language_info": {
   "codemirror_mode": {
    "name": "ipython",
    "version": 3
   },
   "file_extension": ".py",
   "mimetype": "text/x-python",
   "name": "python",
   "nbconvert_exporter": "python",
   "pygments_lexer": "ipython3",
   "version": "3.10.13"
  }
 },
 "nbformat": 4,
 "nbformat_minor": 4
}
