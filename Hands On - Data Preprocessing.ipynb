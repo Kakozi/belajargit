{
 "cells": [
  {
   "cell_type": "code",
   "execution_count": 1,
   "metadata": {
    "executionInfo": {
     "elapsed": 1685,
     "status": "ok",
     "timestamp": 1675567477150,
     "user": {
      "displayName": "Mirza Fahmi",
      "userId": "15453880888796853366"
     },
     "user_tz": -420
    },
    "id": "zVzyWEqksezL",
    "tags": []
   },
   "outputs": [],
   "source": [
    "import pandas as pd\n",
    "import numpy as np\n",
    "\n",
    "import matplotlib.pyplot as plt\n",
    "import seaborn as sns"
   ]
  },
  {
   "cell_type": "code",
   "execution_count": 2,
   "metadata": {
    "executionInfo": {
     "elapsed": 1130,
     "status": "ok",
     "timestamp": 1675567478270,
     "user": {
      "displayName": "Mirza Fahmi",
      "userId": "15453880888796853366"
     },
     "user_tz": -420
    },
    "id": "Qw0cFuZDs936",
    "tags": []
   },
   "outputs": [],
   "source": [
    "df = pd.read_csv('Food_Delivery_Dataset.csv')"
   ]
  },
  {
   "cell_type": "code",
   "execution_count": 3,
   "metadata": {
    "colab": {
     "base_uri": "https://localhost:8080/"
    },
    "executionInfo": {
     "elapsed": 6,
     "status": "ok",
     "timestamp": 1675567479638,
     "user": {
      "displayName": "Mirza Fahmi",
      "userId": "15453880888796853366"
     },
     "user_tz": -420
    },
    "id": "BJaQTJXZtSs8",
    "outputId": "d5ce5f6c-55a0-42fa-97bf-c5f0438e5e70",
    "tags": []
   },
   "outputs": [
    {
     "name": "stdout",
     "output_type": "stream",
     "text": [
      "<class 'pandas.core.frame.DataFrame'>\n",
      "RangeIndex: 45593 entries, 0 to 45592\n",
      "Data columns (total 20 columns):\n",
      " #   Column                       Non-Null Count  Dtype  \n",
      "---  ------                       --------------  -----  \n",
      " 0   id                           45593 non-null  object \n",
      " 1   delivery_person_id           45593 non-null  object \n",
      " 2   delivery_person_age          43739 non-null  float64\n",
      " 3   delivery_person_ratings      43685 non-null  float64\n",
      " 4   restaurant_latitude          45593 non-null  float64\n",
      " 5   restaurant_longitude         45593 non-null  float64\n",
      " 6   delivery_location_latitude   45593 non-null  float64\n",
      " 7   delivery_location_longitude  45593 non-null  float64\n",
      " 8   order_date                   45593 non-null  object \n",
      " 9   time_orderd                  43862 non-null  object \n",
      " 10  time_order_picked            45593 non-null  object \n",
      " 11  weather_conditions           44977 non-null  object \n",
      " 12  road_traffic_density         44992 non-null  object \n",
      " 13  vehicle_condition            45593 non-null  int64  \n",
      " 14  type_of_order                45593 non-null  object \n",
      " 15  type_of_vehicle              45593 non-null  object \n",
      " 16  multiple_deliveries          44600 non-null  float64\n",
      " 17  festival                     45365 non-null  object \n",
      " 18  city                         44393 non-null  object \n",
      " 19  time_taken_min               45593 non-null  float64\n",
      "dtypes: float64(8), int64(1), object(11)\n",
      "memory usage: 7.0+ MB\n"
     ]
    }
   ],
   "source": [
    "df.info()"
   ]
  },
  {
   "cell_type": "code",
   "execution_count": 4,
   "metadata": {
    "colab": {
     "base_uri": "https://localhost:8080/",
     "height": 270
    },
    "executionInfo": {
     "elapsed": 331,
     "status": "ok",
     "timestamp": 1675567483528,
     "user": {
      "displayName": "Mirza Fahmi",
      "userId": "15453880888796853366"
     },
     "user_tz": -420
    },
    "id": "E_ZG127us_pN",
    "outputId": "21b8a286-3c4b-4fef-8e16-ca74dde087c8",
    "tags": []
   },
   "outputs": [
    {
     "data": {
      "text/html": [
       "<div>\n",
       "<style scoped>\n",
       "    .dataframe tbody tr th:only-of-type {\n",
       "        vertical-align: middle;\n",
       "    }\n",
       "\n",
       "    .dataframe tbody tr th {\n",
       "        vertical-align: top;\n",
       "    }\n",
       "\n",
       "    .dataframe thead th {\n",
       "        text-align: right;\n",
       "    }\n",
       "</style>\n",
       "<table border=\"1\" class=\"dataframe\">\n",
       "  <thead>\n",
       "    <tr style=\"text-align: right;\">\n",
       "      <th></th>\n",
       "      <th>id</th>\n",
       "      <th>delivery_person_id</th>\n",
       "      <th>delivery_person_age</th>\n",
       "      <th>delivery_person_ratings</th>\n",
       "      <th>restaurant_latitude</th>\n",
       "      <th>restaurant_longitude</th>\n",
       "      <th>delivery_location_latitude</th>\n",
       "      <th>delivery_location_longitude</th>\n",
       "      <th>order_date</th>\n",
       "      <th>time_orderd</th>\n",
       "      <th>time_order_picked</th>\n",
       "      <th>weather_conditions</th>\n",
       "      <th>road_traffic_density</th>\n",
       "      <th>vehicle_condition</th>\n",
       "      <th>type_of_order</th>\n",
       "      <th>type_of_vehicle</th>\n",
       "      <th>multiple_deliveries</th>\n",
       "      <th>festival</th>\n",
       "      <th>city</th>\n",
       "      <th>time_taken_min</th>\n",
       "    </tr>\n",
       "  </thead>\n",
       "  <tbody>\n",
       "    <tr>\n",
       "      <th>21810</th>\n",
       "      <td>0x66fa</td>\n",
       "      <td>PUNERES20DEL01</td>\n",
       "      <td>27.0</td>\n",
       "      <td>4.9</td>\n",
       "      <td>18.592718</td>\n",
       "      <td>73.773572</td>\n",
       "      <td>18.662718</td>\n",
       "      <td>73.843572</td>\n",
       "      <td>02-04-2022</td>\n",
       "      <td>21:50</td>\n",
       "      <td>22:05</td>\n",
       "      <td>Sandstorms</td>\n",
       "      <td>Jam</td>\n",
       "      <td>2</td>\n",
       "      <td>Drinks</td>\n",
       "      <td>motorcycle</td>\n",
       "      <td>0.0</td>\n",
       "      <td>No</td>\n",
       "      <td>Metropolitian</td>\n",
       "      <td>18.0</td>\n",
       "    </tr>\n",
       "    <tr>\n",
       "      <th>15789</th>\n",
       "      <td>0xa84d</td>\n",
       "      <td>BANGRES09DEL01</td>\n",
       "      <td>22.0</td>\n",
       "      <td>5.0</td>\n",
       "      <td>12.934179</td>\n",
       "      <td>77.615797</td>\n",
       "      <td>12.974179</td>\n",
       "      <td>77.655797</td>\n",
       "      <td>09-03-2022</td>\n",
       "      <td>12:30</td>\n",
       "      <td>12:45</td>\n",
       "      <td>Sandstorms</td>\n",
       "      <td>High</td>\n",
       "      <td>0</td>\n",
       "      <td>Snack</td>\n",
       "      <td>motorcycle</td>\n",
       "      <td>1.0</td>\n",
       "      <td>No</td>\n",
       "      <td>Metropolitian</td>\n",
       "      <td>26.0</td>\n",
       "    </tr>\n",
       "    <tr>\n",
       "      <th>36452</th>\n",
       "      <td>0xcc36</td>\n",
       "      <td>AURGRES05DEL01</td>\n",
       "      <td>39.0</td>\n",
       "      <td>4.8</td>\n",
       "      <td>19.875522</td>\n",
       "      <td>75.367127</td>\n",
       "      <td>19.885522</td>\n",
       "      <td>75.377127</td>\n",
       "      <td>11-02-2022</td>\n",
       "      <td>9:55</td>\n",
       "      <td>9:60</td>\n",
       "      <td>Fog</td>\n",
       "      <td>Low</td>\n",
       "      <td>0</td>\n",
       "      <td>Drinks</td>\n",
       "      <td>motorcycle</td>\n",
       "      <td>1.0</td>\n",
       "      <td>No</td>\n",
       "      <td>Metropolitian</td>\n",
       "      <td>25.0</td>\n",
       "    </tr>\n",
       "    <tr>\n",
       "      <th>1018</th>\n",
       "      <td>0xe0f9</td>\n",
       "      <td>DEHRES11DEL01</td>\n",
       "      <td>34.0</td>\n",
       "      <td>4.9</td>\n",
       "      <td>0.000000</td>\n",
       "      <td>0.000000</td>\n",
       "      <td>0.010000</td>\n",
       "      <td>0.010000</td>\n",
       "      <td>15-02-2022</td>\n",
       "      <td>10:30</td>\n",
       "      <td>10:45</td>\n",
       "      <td>Cloudy</td>\n",
       "      <td>Low</td>\n",
       "      <td>0</td>\n",
       "      <td>Meal</td>\n",
       "      <td>motorcycle</td>\n",
       "      <td>1.0</td>\n",
       "      <td>No</td>\n",
       "      <td>Metropolitian</td>\n",
       "      <td>22.0</td>\n",
       "    </tr>\n",
       "    <tr>\n",
       "      <th>2336</th>\n",
       "      <td>0x317f</td>\n",
       "      <td>HYDRES08DEL01</td>\n",
       "      <td>31.0</td>\n",
       "      <td>4.9</td>\n",
       "      <td>17.438263</td>\n",
       "      <td>78.397865</td>\n",
       "      <td>17.478263</td>\n",
       "      <td>78.437865</td>\n",
       "      <td>01-04-2022</td>\n",
       "      <td>14:60</td>\n",
       "      <td>15:05</td>\n",
       "      <td>Windy</td>\n",
       "      <td>High</td>\n",
       "      <td>1</td>\n",
       "      <td>Buffet</td>\n",
       "      <td>motorcycle</td>\n",
       "      <td>1.0</td>\n",
       "      <td>No</td>\n",
       "      <td>Urban</td>\n",
       "      <td>28.0</td>\n",
       "    </tr>\n",
       "  </tbody>\n",
       "</table>\n",
       "</div>"
      ],
      "text/plain": [
       "           id delivery_person_id  delivery_person_age  \\\n",
       "21810  0x66fa     PUNERES20DEL01                 27.0   \n",
       "15789  0xa84d     BANGRES09DEL01                 22.0   \n",
       "36452  0xcc36     AURGRES05DEL01                 39.0   \n",
       "1018   0xe0f9      DEHRES11DEL01                 34.0   \n",
       "2336   0x317f      HYDRES08DEL01                 31.0   \n",
       "\n",
       "       delivery_person_ratings  restaurant_latitude  restaurant_longitude  \\\n",
       "21810                      4.9            18.592718             73.773572   \n",
       "15789                      5.0            12.934179             77.615797   \n",
       "36452                      4.8            19.875522             75.367127   \n",
       "1018                       4.9             0.000000              0.000000   \n",
       "2336                       4.9            17.438263             78.397865   \n",
       "\n",
       "       delivery_location_latitude  delivery_location_longitude  order_date  \\\n",
       "21810                   18.662718                    73.843572  02-04-2022   \n",
       "15789                   12.974179                    77.655797  09-03-2022   \n",
       "36452                   19.885522                    75.377127  11-02-2022   \n",
       "1018                     0.010000                     0.010000  15-02-2022   \n",
       "2336                    17.478263                    78.437865  01-04-2022   \n",
       "\n",
       "      time_orderd time_order_picked weather_conditions road_traffic_density  \\\n",
       "21810       21:50             22:05         Sandstorms                  Jam   \n",
       "15789       12:30             12:45         Sandstorms                 High   \n",
       "36452        9:55              9:60                Fog                  Low   \n",
       "1018        10:30             10:45             Cloudy                  Low   \n",
       "2336        14:60             15:05              Windy                 High   \n",
       "\n",
       "       vehicle_condition type_of_order type_of_vehicle  multiple_deliveries  \\\n",
       "21810                  2        Drinks      motorcycle                  0.0   \n",
       "15789                  0         Snack      motorcycle                  1.0   \n",
       "36452                  0        Drinks      motorcycle                  1.0   \n",
       "1018                   0          Meal      motorcycle                  1.0   \n",
       "2336                   1        Buffet      motorcycle                  1.0   \n",
       "\n",
       "      festival           city  time_taken_min  \n",
       "21810       No  Metropolitian            18.0  \n",
       "15789       No  Metropolitian            26.0  \n",
       "36452       No  Metropolitian            25.0  \n",
       "1018        No  Metropolitian            22.0  \n",
       "2336        No          Urban            28.0  "
      ]
     },
     "execution_count": 4,
     "metadata": {},
     "output_type": "execute_result"
    }
   ],
   "source": [
    "df.sample(5)"
   ]
  },
  {
   "cell_type": "code",
   "execution_count": 5,
   "metadata": {
    "colab": {
     "base_uri": "https://localhost:8080/"
    },
    "executionInfo": {
     "elapsed": 7,
     "status": "ok",
     "timestamp": 1675567487295,
     "user": {
      "displayName": "Mirza Fahmi",
      "userId": "15453880888796853366"
     },
     "user_tz": -420
    },
    "id": "JDbAY3WXt2mc",
    "outputId": "8e77a122-2ae8-4387-b85b-c83ca8b9bf4d",
    "tags": []
   },
   "outputs": [
    {
     "data": {
      "text/plain": [
       "id                                0\n",
       "delivery_person_id                0\n",
       "delivery_person_age            1854\n",
       "delivery_person_ratings        1908\n",
       "restaurant_latitude               0\n",
       "restaurant_longitude              0\n",
       "delivery_location_latitude        0\n",
       "delivery_location_longitude       0\n",
       "order_date                        0\n",
       "time_orderd                    1731\n",
       "time_order_picked                 0\n",
       "weather_conditions              616\n",
       "road_traffic_density            601\n",
       "vehicle_condition                 0\n",
       "type_of_order                     0\n",
       "type_of_vehicle                   0\n",
       "multiple_deliveries             993\n",
       "festival                        228\n",
       "city                           1200\n",
       "time_taken_min                    0\n",
       "dtype: int64"
      ]
     },
     "execution_count": 5,
     "metadata": {},
     "output_type": "execute_result"
    }
   ],
   "source": [
    "df.isna().sum()"
   ]
  },
  {
   "cell_type": "code",
   "execution_count": 6,
   "metadata": {
    "executionInfo": {
     "elapsed": 374,
     "status": "ok",
     "timestamp": 1675567493331,
     "user": {
      "displayName": "Mirza Fahmi",
      "userId": "15453880888796853366"
     },
     "user_tz": -420
    },
    "id": "Mt1mzcBMvop4",
    "tags": []
   },
   "outputs": [],
   "source": [
    "# pengelompokan kolom berdasarkan jenisnya\n",
    "cats = ['id', 'delivery_person_id', 'weather_conditions', 'road_traffic_density', 'type_of_order', 'type_of_vehicle', 'festival', 'city']\n",
    "nums = ['delivery_person_age', 'delivery_person_ratings', 'vehicle_condition', 'multiple_deliveries', 'time_taken_min']\n",
    "timestamp = ['order_date', 'time_orderd', 'time_order_picked']\n",
    "geoloc = ['restaurant_latitude', 'restaurant_longitude', 'delivery_location_latitude', 'delivery_location_longitude']"
   ]
  },
  {
   "cell_type": "code",
   "execution_count": 7,
   "metadata": {
    "colab": {
     "base_uri": "https://localhost:8080/",
     "height": 300
    },
    "executionInfo": {
     "elapsed": 7,
     "status": "ok",
     "timestamp": 1675567497060,
     "user": {
      "displayName": "Mirza Fahmi",
      "userId": "15453880888796853366"
     },
     "user_tz": -420
    },
    "id": "4-N4G8kUyxW4",
    "outputId": "b079adce-b3bb-4af1-a69e-0bf02c84212f",
    "tags": []
   },
   "outputs": [
    {
     "data": {
      "text/html": [
       "<div>\n",
       "<style scoped>\n",
       "    .dataframe tbody tr th:only-of-type {\n",
       "        vertical-align: middle;\n",
       "    }\n",
       "\n",
       "    .dataframe tbody tr th {\n",
       "        vertical-align: top;\n",
       "    }\n",
       "\n",
       "    .dataframe thead th {\n",
       "        text-align: right;\n",
       "    }\n",
       "</style>\n",
       "<table border=\"1\" class=\"dataframe\">\n",
       "  <thead>\n",
       "    <tr style=\"text-align: right;\">\n",
       "      <th></th>\n",
       "      <th>delivery_person_age</th>\n",
       "      <th>delivery_person_ratings</th>\n",
       "      <th>vehicle_condition</th>\n",
       "      <th>multiple_deliveries</th>\n",
       "      <th>time_taken_min</th>\n",
       "    </tr>\n",
       "  </thead>\n",
       "  <tbody>\n",
       "    <tr>\n",
       "      <th>count</th>\n",
       "      <td>43739.000000</td>\n",
       "      <td>43685.000000</td>\n",
       "      <td>45593.000000</td>\n",
       "      <td>44600.000000</td>\n",
       "      <td>45593.000000</td>\n",
       "    </tr>\n",
       "    <tr>\n",
       "      <th>mean</th>\n",
       "      <td>29.567137</td>\n",
       "      <td>4.633780</td>\n",
       "      <td>1.023359</td>\n",
       "      <td>0.744664</td>\n",
       "      <td>26.294607</td>\n",
       "    </tr>\n",
       "    <tr>\n",
       "      <th>std</th>\n",
       "      <td>5.815155</td>\n",
       "      <td>0.334716</td>\n",
       "      <td>0.839065</td>\n",
       "      <td>0.572473</td>\n",
       "      <td>9.383806</td>\n",
       "    </tr>\n",
       "    <tr>\n",
       "      <th>min</th>\n",
       "      <td>15.000000</td>\n",
       "      <td>1.000000</td>\n",
       "      <td>0.000000</td>\n",
       "      <td>0.000000</td>\n",
       "      <td>10.000000</td>\n",
       "    </tr>\n",
       "    <tr>\n",
       "      <th>25%</th>\n",
       "      <td>25.000000</td>\n",
       "      <td>4.500000</td>\n",
       "      <td>0.000000</td>\n",
       "      <td>0.000000</td>\n",
       "      <td>19.000000</td>\n",
       "    </tr>\n",
       "    <tr>\n",
       "      <th>50%</th>\n",
       "      <td>30.000000</td>\n",
       "      <td>4.700000</td>\n",
       "      <td>1.000000</td>\n",
       "      <td>1.000000</td>\n",
       "      <td>26.000000</td>\n",
       "    </tr>\n",
       "    <tr>\n",
       "      <th>75%</th>\n",
       "      <td>35.000000</td>\n",
       "      <td>4.900000</td>\n",
       "      <td>2.000000</td>\n",
       "      <td>1.000000</td>\n",
       "      <td>32.000000</td>\n",
       "    </tr>\n",
       "    <tr>\n",
       "      <th>max</th>\n",
       "      <td>50.000000</td>\n",
       "      <td>6.000000</td>\n",
       "      <td>3.000000</td>\n",
       "      <td>3.000000</td>\n",
       "      <td>54.000000</td>\n",
       "    </tr>\n",
       "  </tbody>\n",
       "</table>\n",
       "</div>"
      ],
      "text/plain": [
       "       delivery_person_age  delivery_person_ratings  vehicle_condition  \\\n",
       "count         43739.000000             43685.000000       45593.000000   \n",
       "mean             29.567137                 4.633780           1.023359   \n",
       "std               5.815155                 0.334716           0.839065   \n",
       "min              15.000000                 1.000000           0.000000   \n",
       "25%              25.000000                 4.500000           0.000000   \n",
       "50%              30.000000                 4.700000           1.000000   \n",
       "75%              35.000000                 4.900000           2.000000   \n",
       "max              50.000000                 6.000000           3.000000   \n",
       "\n",
       "       multiple_deliveries  time_taken_min  \n",
       "count         44600.000000    45593.000000  \n",
       "mean              0.744664       26.294607  \n",
       "std               0.572473        9.383806  \n",
       "min               0.000000       10.000000  \n",
       "25%               0.000000       19.000000  \n",
       "50%               1.000000       26.000000  \n",
       "75%               1.000000       32.000000  \n",
       "max               3.000000       54.000000  "
      ]
     },
     "execution_count": 7,
     "metadata": {},
     "output_type": "execute_result"
    }
   ],
   "source": [
    "# ringkasan statistik dari kolom numerik\n",
    "df[nums].describe()"
   ]
  },
  {
   "cell_type": "code",
   "execution_count": 8,
   "metadata": {
    "colab": {
     "base_uri": "https://localhost:8080/",
     "height": 175
    },
    "executionInfo": {
     "elapsed": 10,
     "status": "ok",
     "timestamp": 1675567500619,
     "user": {
      "displayName": "Mirza Fahmi",
      "userId": "15453880888796853366"
     },
     "user_tz": -420
    },
    "id": "0PO8RCsszASe",
    "outputId": "4566a49f-fee0-49c5-8411-da35665bd5bf",
    "tags": []
   },
   "outputs": [
    {
     "data": {
      "text/html": [
       "<div>\n",
       "<style scoped>\n",
       "    .dataframe tbody tr th:only-of-type {\n",
       "        vertical-align: middle;\n",
       "    }\n",
       "\n",
       "    .dataframe tbody tr th {\n",
       "        vertical-align: top;\n",
       "    }\n",
       "\n",
       "    .dataframe thead th {\n",
       "        text-align: right;\n",
       "    }\n",
       "</style>\n",
       "<table border=\"1\" class=\"dataframe\">\n",
       "  <thead>\n",
       "    <tr style=\"text-align: right;\">\n",
       "      <th></th>\n",
       "      <th>id</th>\n",
       "      <th>delivery_person_id</th>\n",
       "      <th>weather_conditions</th>\n",
       "      <th>road_traffic_density</th>\n",
       "      <th>type_of_order</th>\n",
       "      <th>type_of_vehicle</th>\n",
       "      <th>festival</th>\n",
       "      <th>city</th>\n",
       "    </tr>\n",
       "  </thead>\n",
       "  <tbody>\n",
       "    <tr>\n",
       "      <th>count</th>\n",
       "      <td>45593</td>\n",
       "      <td>45593</td>\n",
       "      <td>44977</td>\n",
       "      <td>44992</td>\n",
       "      <td>45593</td>\n",
       "      <td>45593</td>\n",
       "      <td>45365</td>\n",
       "      <td>44393</td>\n",
       "    </tr>\n",
       "    <tr>\n",
       "      <th>unique</th>\n",
       "      <td>45593</td>\n",
       "      <td>1320</td>\n",
       "      <td>6</td>\n",
       "      <td>4</td>\n",
       "      <td>4</td>\n",
       "      <td>4</td>\n",
       "      <td>2</td>\n",
       "      <td>3</td>\n",
       "    </tr>\n",
       "    <tr>\n",
       "      <th>top</th>\n",
       "      <td>0x6b1a</td>\n",
       "      <td>JAPRES11DEL02</td>\n",
       "      <td>Fog</td>\n",
       "      <td>Low</td>\n",
       "      <td>Snack</td>\n",
       "      <td>motorcycle</td>\n",
       "      <td>No</td>\n",
       "      <td>Metropolitian</td>\n",
       "    </tr>\n",
       "    <tr>\n",
       "      <th>freq</th>\n",
       "      <td>1</td>\n",
       "      <td>67</td>\n",
       "      <td>7654</td>\n",
       "      <td>15477</td>\n",
       "      <td>11533</td>\n",
       "      <td>26435</td>\n",
       "      <td>44469</td>\n",
       "      <td>34093</td>\n",
       "    </tr>\n",
       "  </tbody>\n",
       "</table>\n",
       "</div>"
      ],
      "text/plain": [
       "            id delivery_person_id weather_conditions road_traffic_density  \\\n",
       "count    45593              45593              44977                44992   \n",
       "unique   45593               1320                  6                    4   \n",
       "top     0x6b1a      JAPRES11DEL02                Fog                  Low   \n",
       "freq         1                 67               7654                15477   \n",
       "\n",
       "       type_of_order type_of_vehicle festival           city  \n",
       "count          45593           45593    45365          44393  \n",
       "unique             4               4        2              3  \n",
       "top            Snack      motorcycle       No  Metropolitian  \n",
       "freq           11533           26435    44469          34093  "
      ]
     },
     "execution_count": 8,
     "metadata": {},
     "output_type": "execute_result"
    }
   ],
   "source": [
    "# categorical columns \n",
    "df[cats].describe()"
   ]
  },
  {
   "cell_type": "code",
   "execution_count": 9,
   "metadata": {
    "executionInfo": {
     "elapsed": 336,
     "status": "ok",
     "timestamp": 1675567506432,
     "user": {
      "displayName": "Mirza Fahmi",
      "userId": "15453880888796853366"
     },
     "user_tz": -420
    },
    "id": "jwNtiRI6zDKr",
    "tags": []
   },
   "outputs": [],
   "source": [
    "# karena sedikit, dapat kita drop\n",
    "#df.dropna(inplace=True, subset=['festival'])\n",
    "df.dropna(inplace=True, subset=['festival'])"
   ]
  },
  {
   "cell_type": "code",
   "execution_count": 10,
   "metadata": {
    "colab": {
     "base_uri": "https://localhost:8080/"
    },
    "executionInfo": {
     "elapsed": 404,
     "status": "ok",
     "timestamp": 1675567512617,
     "user": {
      "displayName": "Mirza Fahmi",
      "userId": "15453880888796853366"
     },
     "user_tz": -420
    },
    "id": "DzAnEK7OmyCL",
    "outputId": "205142f5-8832-4ac1-a99b-aafd5ca0839e",
    "tags": []
   },
   "outputs": [
    {
     "name": "stdout",
     "output_type": "stream",
     "text": [
      "<class 'pandas.core.frame.DataFrame'>\n",
      "Int64Index: 45365 entries, 0 to 45592\n",
      "Data columns (total 20 columns):\n",
      " #   Column                       Non-Null Count  Dtype  \n",
      "---  ------                       --------------  -----  \n",
      " 0   id                           45365 non-null  object \n",
      " 1   delivery_person_id           45365 non-null  object \n",
      " 2   delivery_person_age          43521 non-null  float64\n",
      " 3   delivery_person_ratings      43468 non-null  float64\n",
      " 4   restaurant_latitude          45365 non-null  float64\n",
      " 5   restaurant_longitude         45365 non-null  float64\n",
      " 6   delivery_location_latitude   45365 non-null  float64\n",
      " 7   delivery_location_longitude  45365 non-null  float64\n",
      " 8   order_date                   45365 non-null  object \n",
      " 9   time_orderd                  43643 non-null  object \n",
      " 10  time_order_picked            45365 non-null  object \n",
      " 11  weather_conditions           44752 non-null  object \n",
      " 12  road_traffic_density         44767 non-null  object \n",
      " 13  vehicle_condition            45365 non-null  int64  \n",
      " 14  type_of_order                45365 non-null  object \n",
      " 15  type_of_vehicle              45365 non-null  object \n",
      " 16  multiple_deliveries          44384 non-null  float64\n",
      " 17  festival                     45365 non-null  object \n",
      " 18  city                         44183 non-null  object \n",
      " 19  time_taken_min               45365 non-null  float64\n",
      "dtypes: float64(8), int64(1), object(11)\n",
      "memory usage: 7.3+ MB\n"
     ]
    }
   ],
   "source": [
    "df.info()"
   ]
  },
  {
   "cell_type": "code",
   "execution_count": 11,
   "metadata": {
    "executionInfo": {
     "elapsed": 352,
     "status": "ok",
     "timestamp": 1675567527249,
     "user": {
      "displayName": "Mirza Fahmi",
      "userId": "15453880888796853366"
     },
     "user_tz": -420
    },
    "id": "b6-Fbj8Gzy8K",
    "tags": []
   },
   "outputs": [],
   "source": [
    "# imputasi kolom kategorikal dengan nilai yang paling sering muncul\n",
    "df['delivery_person_ratings'].fillna(df['delivery_person_ratings'].mode()[0], inplace=True)\n",
    "df['multiple_deliveries'].fillna(df['multiple_deliveries'].mode()[0], inplace=True)\n",
    "df['weather_conditions'].fillna(df['weather_conditions'].mode()[0], inplace=True)\n",
    "df['city'].fillna(df['city'].mode()[0], inplace=True)\n",
    "df['time_orderd'].fillna(df['time_orderd'].mode()[0], inplace=True)\n",
    "df['road_traffic_density'].fillna(df['road_traffic_density'].mode()[0], inplace=True)"
   ]
  },
  {
   "cell_type": "code",
   "execution_count": 12,
   "metadata": {
    "executionInfo": {
     "elapsed": 10,
     "status": "ok",
     "timestamp": 1675567531374,
     "user": {
      "displayName": "Mirza Fahmi",
      "userId": "15453880888796853366"
     },
     "user_tz": -420
    },
    "id": "vQUpUXin0ND4",
    "tags": []
   },
   "outputs": [],
   "source": [
    "# imputasi kolom numerikal dengan nilai rata-rata\n",
    "df['delivery_person_age'].fillna(df['delivery_person_age'].mean(), inplace=True)"
   ]
  },
  {
   "cell_type": "code",
   "execution_count": 13,
   "metadata": {
    "colab": {
     "base_uri": "https://localhost:8080/"
    },
    "executionInfo": {
     "elapsed": 8,
     "status": "ok",
     "timestamp": 1675567531375,
     "user": {
      "displayName": "Mirza Fahmi",
      "userId": "15453880888796853366"
     },
     "user_tz": -420
    },
    "id": "yof6T9Jc06qW",
    "outputId": "bada3844-1d1c-4a36-c8b7-a6831e91a601",
    "tags": []
   },
   "outputs": [
    {
     "data": {
      "text/plain": [
       "0"
      ]
     },
     "execution_count": 13,
     "metadata": {},
     "output_type": "execute_result"
    }
   ],
   "source": [
    "# cek jumlah duplicated rows\n",
    "# dari semua kolom\n",
    "df.duplicated().sum()"
   ]
  },
  {
   "cell_type": "code",
   "execution_count": 14,
   "metadata": {
    "colab": {
     "base_uri": "https://localhost:8080/"
    },
    "executionInfo": {
     "elapsed": 7,
     "status": "ok",
     "timestamp": 1675567534121,
     "user": {
      "displayName": "Mirza Fahmi",
      "userId": "15453880888796853366"
     },
     "user_tz": -420
    },
    "id": "iRt2zcrzJsE0",
    "outputId": "6f26de19-9cc0-4862-ecb3-c154848f2381",
    "tags": []
   },
   "outputs": [
    {
     "data": {
      "text/plain": [
       "44045"
      ]
     },
     "execution_count": 14,
     "metadata": {},
     "output_type": "execute_result"
    }
   ],
   "source": [
    "df.duplicated(subset=['delivery_person_id']).sum()"
   ]
  },
  {
   "cell_type": "code",
   "execution_count": 15,
   "metadata": {
    "executionInfo": {
     "elapsed": 4,
     "status": "ok",
     "timestamp": 1675567536994,
     "user": {
      "displayName": "Mirza Fahmi",
      "userId": "15453880888796853366"
     },
     "user_tz": -420
    },
    "id": "z6xKsOOs3NRV",
    "tags": []
   },
   "outputs": [],
   "source": [
    "from scipy import stats"
   ]
  },
  {
   "cell_type": "code",
   "execution_count": 16,
   "metadata": {
    "colab": {
     "base_uri": "https://localhost:8080/"
    },
    "executionInfo": {
     "elapsed": 356,
     "status": "ok",
     "timestamp": 1675567538989,
     "user": {
      "displayName": "Mirza Fahmi",
      "userId": "15453880888796853366"
     },
     "user_tz": -420
    },
    "id": "z5LLu8vR3syI",
    "outputId": "11a62c58-5992-4f3c-d1c2-e97d27025c47",
    "tags": []
   },
   "outputs": [
    {
     "name": "stdout",
     "output_type": "stream",
     "text": [
      "Jumlah baris sebelum memfilter outlier: 45365\n",
      "Jumlah baris setelah memfilter outlier: 44595\n"
     ]
    }
   ],
   "source": [
    "print(f'Jumlah baris sebelum memfilter outlier: {len(df)}')\n",
    "\n",
    "filtered_entries = np.array([True] * len(df))\n",
    "\n",
    "for col in ['delivery_person_age',\t'delivery_person_ratings']:\n",
    "    zscore = abs(stats.zscore(df[col])) # hitung absolute z-scorenya\n",
    "    filtered_entries = (zscore < 3) & filtered_entries # keep yang kurang dari 3 absolute z-scorenya\n",
    "    \n",
    "df = df[filtered_entries] # filter, cuma ambil yang z-scorenya dibawah 3\n",
    "\n",
    "print(f'Jumlah baris setelah memfilter outlier: {len(df)}')"
   ]
  },
  {
   "cell_type": "code",
   "execution_count": 17,
   "metadata": {
    "colab": {
     "base_uri": "https://localhost:8080/"
    },
    "executionInfo": {
     "elapsed": 342,
     "status": "ok",
     "timestamp": 1675567541909,
     "user": {
      "displayName": "Mirza Fahmi",
      "userId": "15453880888796853366"
     },
     "user_tz": -420
    },
    "id": "JxGBTAtE4CZ7",
    "outputId": "70f64e90-12bc-437c-c6b1-10dc96dac98d",
    "tags": []
   },
   "outputs": [
    {
     "name": "stdout",
     "output_type": "stream",
     "text": [
      "Jumlah baris sebelum memfilter outlier: 44595\n",
      "Jumlah baris setelah memfilter outlier: 40020\n"
     ]
    }
   ],
   "source": [
    "print(f'Jumlah baris sebelum memfilter outlier: {len(df)}')\n",
    "\n",
    "filtered_entries = np.array([True] * len(df))\n",
    "for col in ['delivery_person_age',\t'delivery_person_ratings']:\n",
    "    Q1 = df[col].quantile(0.25)\n",
    "    Q3 = df[col].quantile(0.75)\n",
    "    IQR = Q3 - Q1\n",
    "    low_limit = Q1 - (IQR * 1.5)\n",
    "    high_limit = Q3 + (IQR * 1.5)\n",
    "\n",
    "    filtered_entries = ((df[col] >= low_limit) & (df[col] <= high_limit)) & filtered_entries\n",
    "    \n",
    "df = df[filtered_entries]\n",
    "\n",
    "print(f'Jumlah baris setelah memfilter outlier: {len(df)}')"
   ]
  },
  {
   "cell_type": "code",
   "execution_count": 18,
   "metadata": {
    "colab": {
     "base_uri": "https://localhost:8080/",
     "height": 297
    },
    "executionInfo": {
     "elapsed": 732,
     "status": "ok",
     "timestamp": 1675567543947,
     "user": {
      "displayName": "Mirza Fahmi",
      "userId": "15453880888796853366"
     },
     "user_tz": -420
    },
    "id": "ZByX3cIP4lAN",
    "outputId": "8e184a45-467a-4e30-df04-eeb84c330904",
    "tags": []
   },
   "outputs": [
    {
     "data": {
      "text/plain": [
       "<Axes: xlabel='delivery_person_age', ylabel='Density'>"
      ]
     },
     "execution_count": 18,
     "metadata": {},
     "output_type": "execute_result"
    },
    {
     "data": {
      "image/png": "[encoded data removed]",
      "text/plain": [
       "<Figure size 640x480 with 1 Axes>"
      ]
     },
     "metadata": {},
     "output_type": "display_data"
    }
   ],
   "source": [
    "# distribusi gaji (nilai asli)\n",
    "sns.kdeplot(df['delivery_person_age'])"
   ]
  },
  {
   "cell_type": "code",
   "execution_count": 19,
   "metadata": {
    "colab": {
     "base_uri": "https://localhost:8080/",
     "height": 297
    },
    "executionInfo": {
     "elapsed": 810,
     "status": "ok",
     "timestamp": 1675567544749,
     "user": {
      "displayName": "Mirza Fahmi",
      "userId": "15453880888796853366"
     },
     "user_tz": -420
    },
    "id": "PDlmpURU4yRi",
    "outputId": "5d24b790-642a-412c-9297-e1c71d23b5cd",
    "tags": []
   },
   "outputs": [
    {
     "data": {
      "text/plain": [
       "<Axes: xlabel='delivery_person_age', ylabel='Density'>"
      ]
     },
     "execution_count": 19,
     "metadata": {},
     "output_type": "execute_result"
    },
    {
     "data": {
      "image/png": "[encoded data removed]",
      "text/plain": [
       "<Figure size 640x480 with 1 Axes>"
      ]
     },
     "metadata": {},
     "output_type": "display_data"
    }
   ],
   "source": [
    "# distribusi gaji (setelah log transformation)\n",
    "sns.kdeplot(np.log(df['delivery_person_age']))\n",
    "# lebih mendekati distribusi normal!"
   ]
  },
  {
   "cell_type": "code",
   "execution_count": 21,
   "metadata": {
    "tags": []
   },
   "outputs": [
    {
     "name": "stdout",
     "output_type": "stream",
     "text": [
      "Collecting sklearn\n",
      "  Downloading sklearn-0.0.post12.tar.gz (2.6 kB)\n",
      "  Preparing metadata (setup.py): started\n",
      "  Preparing metadata (setup.py): finished with status 'error'\n"
     ]
    },
    {
     "name": "stderr",
     "output_type": "stream",
     "text": [
      "  error: subprocess-exited-with-error\n",
      "  \n",
      "  python setup.py egg_info did not run successfully.\n",
      "  exit code: 1\n",
      "  \n",
      "  [15 lines of output]\n",
      "  The 'sklearn' PyPI package is deprecated, use 'scikit-learn'\n",
      "  rather than 'sklearn' for pip commands.\n",
      "  \n",
      "  Here is how to fix this error in the main use cases:\n",
      "  - use 'pip install scikit-learn' rather than 'pip install sklearn'\n",
      "  - replace 'sklearn' by 'scikit-learn' in your pip requirements files\n",
      "    (requirements.txt, setup.py, setup.cfg, Pipfile, etc ...)\n",
      "  - if the 'sklearn' package is used by one of your dependencies,\n",
      "    it would be great if you take some time to track which package uses\n",
      "    'sklearn' instead of 'scikit-learn' and report it to their issue tracker\n",
      "  - as a last resort, set the environment variable\n",
      "    SKLEARN_ALLOW_DEPRECATED_SKLEARN_PACKAGE_INSTALL=True to avoid this error\n",
      "  \n",
      "  More information is available at\n",
      "  https://github.com/scikit-learn/sklearn-pypi-package\n",
      "  [end of output]\n",
      "  \n",
      "  note: This error originates from a subprocess, and is likely not a problem with pip.\n",
      "error: metadata-generation-failed\n",
      "\n",
      "Encountered error while generating package metadata.\n",
      "\n",
      "See above for output.\n",
      "\n",
      "note: This is an issue with the package mentioned above, not pip.\n",
      "hint: See above for details.\n"
     ]
    }
   ],
   "source": []
  },
  {
   "cell_type": "code",
   "execution_count": 22,
   "metadata": {
    "executionInfo": {
     "elapsed": 365,
     "status": "ok",
     "timestamp": 1675567546383,
     "user": {
      "displayName": "Mirza Fahmi",
      "userId": "15453880888796853366"
     },
     "user_tz": -420
    },
    "id": "Banhq-Uzkg7Q"
   },
   "outputs": [],
   "source": [
    "from sklearn.preprocessing import MinMaxScaler, StandardScaler"
   ]
  },
  {
   "cell_type": "code",
   "execution_count": 23,
   "metadata": {
    "executionInfo": {
     "elapsed": 341,
     "status": "ok",
     "timestamp": 1675567559526,
     "user": {
      "displayName": "Mirza Fahmi",
      "userId": "15453880888796853366"
     },
     "user_tz": -420
    },
    "id": "yJ--FDqKzr07"
   },
   "outputs": [],
   "source": [
    "# berat dan tinggi kita re-scale\n",
    "df['delivery_person_age_norm'] = MinMaxScaler().fit_transform(df['delivery_person_age'].values.reshape(len(df), 1))\n",
    "\n",
    "# umur dan log gaji kita standarisasi (karena distribusi datanya sudah mendekati normal)\n",
    "df['delivery_person_age_std'] = StandardScaler().fit_transform(df['delivery_person_age'].values.reshape(len(df), 1))"
   ]
  },
  {
   "cell_type": "code",
   "execution_count": null,
   "metadata": {
    "colab": {
     "base_uri": "https://localhost:8080/",
     "height": 300
    },
    "executionInfo": {
     "elapsed": 11,
     "status": "ok",
     "timestamp": 1675567561555,
     "user": {
      "displayName": "Mirza Fahmi",
      "userId": "15453880888796853366"
     },
     "user_tz": -420
    },
    "id": "-AUNM_dUz0sz",
    "outputId": "c2750d2a-690a-4a13-e3d4-ecb7881a3d16"
   },
   "outputs": [],
   "source": [
    "df[['delivery_person_age','delivery_person_age_std','delivery_person_age_norm']].describe()"
   ]
  },
  {
   "cell_type": "code",
   "execution_count": null,
   "metadata": {
    "executionInfo": {
     "elapsed": 322,
     "status": "ok",
     "timestamp": 1675567572866,
     "user": {
      "displayName": "Mirza Fahmi",
      "userId": "15453880888796853366"
     },
     "user_tz": -420
    },
    "id": "ic3THeOE1jZS"
   },
   "outputs": [],
   "source": [
    "# label encoder pada road_traffic_density, city dan weather_conditions\n",
    "df['weather_conditions'] = df['weather_conditions'].astype('category').cat.codes\n",
    "df['road_traffic_density'] = df['road_traffic_density'].astype('category').cat.codes\n",
    "df['city'] = df['city'].astype('category').cat.codes\n",
    "df['festival'] = df['festival'].astype('category').cat.codes"
   ]
  },
  {
   "cell_type": "code",
   "execution_count": null,
   "metadata": {
    "executionInfo": {
     "elapsed": 321,
     "status": "ok",
     "timestamp": 1675567576887,
     "user": {
      "displayName": "Mirza Fahmi",
      "userId": "15453880888796853366"
     },
     "user_tz": -420
    },
    "id": "QXYMcGfU9EbP"
   },
   "outputs": [],
   "source": [
    "# type_of_order\ttype_of_vehicle\n",
    "for cat in ['type_of_order','type_of_vehicle']:\n",
    "  onehots = pd.get_dummies(df[cat], prefix=cat)\n",
    "  df = df.join(onehots)"
   ]
  },
  {
   "cell_type": "code",
   "execution_count": null,
   "metadata": {
    "colab": {
     "base_uri": "https://localhost:8080/"
    },
    "executionInfo": {
     "elapsed": 375,
     "status": "ok",
     "timestamp": 1675567601645,
     "user": {
      "displayName": "Mirza Fahmi",
      "userId": "15453880888796853366"
     },
     "user_tz": -420
    },
    "id": "hwWlhw2gnIDt",
    "outputId": "cb7af30d-e208-4466-8963-d96d70a1a992"
   },
   "outputs": [],
   "source": [
    "df.info()"
   ]
  },
  {
   "cell_type": "code",
   "execution_count": null,
   "metadata": {
    "executionInfo": {
     "elapsed": 333,
     "status": "ok",
     "timestamp": 1675567633447,
     "user": {
      "displayName": "Mirza Fahmi",
      "userId": "15453880888796853366"
     },
     "user_tz": -420
    },
    "id": "UoZFGMSd-CvZ"
   },
   "outputs": [],
   "source": [
    "# drop kolom kategori yang asli (karena sudah di-encoding)\n",
    "df_new = df.drop(columns=['type_of_order','type_of_vehicle']).copy()"
   ]
  },
  {
   "cell_type": "code",
   "execution_count": null,
   "metadata": {
    "colab": {
     "base_uri": "https://localhost:8080/"
    },
    "executionInfo": {
     "elapsed": 7,
     "status": "ok",
     "timestamp": 1675567634752,
     "user": {
      "displayName": "Mirza Fahmi",
      "userId": "15453880888796853366"
     },
     "user_tz": -420
    },
    "id": "0wE86EF6-D9x",
    "outputId": "a49fcd5f-5f2e-41e0-b083-484e3c46db27"
   },
   "outputs": [],
   "source": [
    "df_new.info()"
   ]
  },
  {
   "cell_type": "code",
   "execution_count": null,
   "metadata": {
    "colab": {
     "base_uri": "https://localhost:8080/",
     "height": 1000
    },
    "executionInfo": {
     "elapsed": 3397,
     "status": "ok",
     "timestamp": 1675567650433,
     "user": {
      "displayName": "Mirza Fahmi",
      "userId": "15453880888796853366"
     },
     "user_tz": -420
    },
    "id": "fz1_H21nM8HB",
    "outputId": "fc51dbc8-59f5-40a5-8f8b-619acf5fd528"
   },
   "outputs": [],
   "source": [
    "plt.figure(figsize=(15, 15))\n",
    "sns.heatmap(df_new.corr(), cmap='Blues', annot=True, fmt='.2f')"
   ]
  },
  {
   "cell_type": "code",
   "execution_count": null,
   "metadata": {
    "executionInfo": {
     "elapsed": 341,
     "status": "ok",
     "timestamp": 1675567660559,
     "user": {
      "displayName": "Mirza Fahmi",
      "userId": "15453880888796853366"
     },
     "user_tz": -420
    },
    "id": "ltSGDnAK_o0H"
   },
   "outputs": [],
   "source": [
    "drop_columns = ['id', 'delivery_person_id', 'time_taken_min','type_of_vehicle_scooter','delivery_person_age', 'delivery_person_age_norm'] + geoloc + timestamp"
   ]
  },
  {
   "cell_type": "code",
   "execution_count": null,
   "metadata": {
    "executionInfo": {
     "elapsed": 4,
     "status": "ok",
     "timestamp": 1675567661877,
     "user": {
      "displayName": "Mirza Fahmi",
      "userId": "15453880888796853366"
     },
     "user_tz": -420
    },
    "id": "ZUIkYFtIBYr5"
   },
   "outputs": [],
   "source": [
    "# pemisahan features vs target\n",
    "X = df_new.drop(drop_columns, axis=1)\n",
    "y = df_new['time_taken_min'].values"
   ]
  },
  {
   "cell_type": "code",
   "execution_count": null,
   "metadata": {
    "colab": {
     "base_uri": "https://localhost:8080/"
    },
    "executionInfo": {
     "elapsed": 5,
     "status": "ok",
     "timestamp": 1675567663375,
     "user": {
      "displayName": "Mirza Fahmi",
      "userId": "15453880888796853366"
     },
     "user_tz": -420
    },
    "id": "nqrylC9tBkdw",
    "outputId": "644fcc5b-a21f-4ae9-f72c-e2d9872aafb4"
   },
   "outputs": [],
   "source": [
    "X.info()"
   ]
  },
  {
   "cell_type": "code",
   "execution_count": null,
   "metadata": {
    "id": "o-EIE-QKBjmi"
   },
   "outputs": [],
   "source": [
    "from sklearn.model_selection import train_test_split\n",
    "\n",
    "X_train, X_test, y_train, y_test = train_test_split(X, y, test_size=0.2, random_state=42)"
   ]
  },
  {
   "cell_type": "code",
   "execution_count": null,
   "metadata": {
    "id": "l1FMWej9Nr-3"
   },
   "outputs": [],
   "source": []
  }
 ],
 "metadata": {
  "colab": {
   "authorship_tag": "ABX9TyMCySIARjwqLhNC9dQyfTla",
   "provenance": []
  },
  "kernelspec": {
   "display_name": "Python 3 (ipykernel)",
   "language": "python",
   "name": "python3"
  },
  "language_info": {
   "codemirror_mode": {
    "name": "ipython",
    "version": 3
   },
   "file_extension": ".py",
   "mimetype": "text/x-python",
   "name": "python",
   "nbconvert_exporter": "python",
   "pygments_lexer": "ipython3",
   "version": "3.10.13"
  }
 },
 "nbformat": 4,
 "nbformat_minor": 4
}
